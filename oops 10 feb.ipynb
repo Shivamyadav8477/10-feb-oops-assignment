{
 "cells": [
  {
   "cell_type": "code",
   "execution_count": 1,
   "id": "4071ded2-8849-4082-8338-8764c2c19ba2",
   "metadata": {},
   "outputs": [
    {
     "ename": "SyntaxError",
     "evalue": "invalid syntax (353027022.py, line 1)",
     "output_type": "error",
     "traceback": [
      "\u001b[0;36m  Cell \u001b[0;32mIn [1], line 1\u001b[0;36m\u001b[0m\n\u001b[0;31m    Q1. Which function is used to open a file? What are the different modes of opening a file? Explain each mode\u001b[0m\n\u001b[0m              ^\u001b[0m\n\u001b[0;31mSyntaxError\u001b[0m\u001b[0;31m:\u001b[0m invalid syntax\n"
     ]
    }
   ],
   "source": [
    "Q1. Which function is used to open a file? What are the different modes of opening a file? Explain each mode\n",
    "of file opening."
   ]
  },
  {
   "cell_type": "code",
   "execution_count": null,
   "id": "3608d7a6-0313-473e-b3dc-33306bc11a6e",
   "metadata": {},
   "outputs": [],
   "source": [
    "In most programming languages, including Python and C/C++, you can use a function to open a file. The specific function and its usage may vary depending on the programming language you are using. Here, I'll provide examples in Python and C/C++:\n",
    "\n",
    "Python:\n",
    "In Python, you typically use the open() function to open a file. The basic syntax is as follows:\n",
    "\n",
    "python code\n",
    "file = open(\"filename\", \"mode\")\n",
    "Where:\n",
    "\n",
    "\"filename\" is the name of the file you want to open.\n",
    "\"mode\" is a string specifying the mode in which you want to open the file.\n",
    "Here are the different modes for opening a file in Python:\n",
    "\n",
    "\n",
    "\n",
    "C/C++:\n",
    "In C and C++, you use the fopen() function to open a file. The basic syntax is as follows:\n",
    "\n",
    "c\n",
    "code\n",
    "FILE *file = fopen(\"filename\", \"mode\");\n",
    "Where:\n",
    "\n",
    "\"filename\" is the name of the file you want to open.\n",
    "\"mode\" is a string specifying the mode in which you want to open the file, similar to Python's modes.\n",
    "The modes in C/C++ are essentially the same as those in Python with similar meanings and behaviors.\n",
    "\n",
    "\n",
    "\n",
    "\n",
    "\n",
    "\n"
   ]
  },
  {
   "cell_type": "code",
   "execution_count": null,
   "id": "0c59e579-0e4e-4c1a-a964-1c24696207ea",
   "metadata": {},
   "outputs": [],
   "source": [
    "Q2. Why close() function is used? Why is it important to close a file?"
   ]
  },
  {
   "cell_type": "code",
   "execution_count": null,
   "id": "7bb31ff2-edf6-4ef5-9ee3-ebb24803c931",
   "metadata": {},
   "outputs": [],
   "source": [
    "The close() function is used to close a file that has been opened for reading or writing. It is important to close a file for several reasons:\n",
    "    \n",
    "  1  Resource Management:\n",
    "  2  Resource Management:\n",
    "  3  file locking\n",
    "  4  Portability\n",
    "    \n",
    "    Here's how you can close a file in different programming languages:\n",
    "\n",
    "Python:\n",
    "In Python, you can close a file using the close() method of a file object. For example:\n",
    "\n",
    "python\n",
    " code\n",
    "file = open(\"example.txt\", \"w\")\n",
    "file.write(\"Hello, World!\")\n",
    "file.close()\n",
    "It's a good practice to use the with statement (context manager) when working with files in Python. It automatically closes the file when you exit the block, even if an exception is raised:\n",
    "\n",
    "python\n",
    " code\n",
    "with open(\"example.txt\", \"w\") as file:\n",
    "    file.write(\"Hello, World!\")\n",
    "# The file is automatically closed when the 'with' block is exited.\n",
    "\n",
    "C/C++:\n",
    "In C and C++, you can close a file using the fclose() function. For example:\n",
    "\n",
    "c\n",
    " code\n",
    "FILE *file = fopen(\"example.txt\", \"w\");\n",
    "if (file != NULL) {\n",
    "    fprintf(file, \"Hello, World!\");\n",
    "    fclose(file); // Close the file}\n",
    "\n",
    "\n",
    "\n",
    "\n",
    "\n",
    "\n",
    "\n",
    "    "
   ]
  },
  {
   "cell_type": "code",
   "execution_count": null,
   "id": "3d4f0d22-c9e6-42f2-8910-af43a3813c07",
   "metadata": {},
   "outputs": [],
   "source": [
    "Q3. Write a python program to create a text file. Write ‘I want to become a Data Scientist’ in that file. Then\n",
    "close the file. Open this file and read the content of the file."
   ]
  },
  {
   "cell_type": "code",
   "execution_count": null,
   "id": "e25e22c2-2dc7-4ca5-a161-1bfa66cdf32c",
   "metadata": {},
   "outputs": [],
   "source": [
    "\n",
    "with open(\"data_scientist.txt\", \"w\") as file:\n",
    "    file.write(\"I want to become a Data Scientist\")\n",
    "\n",
    "\n",
    "with open(\"data_scientist.txt\", \"r\") as file:\n",
    "    file_contents = file.read()\n",
    "\n",
    "\n",
    "print(\"Content of the file:\")\n",
    "print(file_contents)\n"
   ]
  },
  {
   "cell_type": "code",
   "execution_count": null,
   "id": "44cc860d-a1e3-4eaa-8f2d-262dfc79653d",
   "metadata": {},
   "outputs": [],
   "source": [
    "Q4- Explain the following with python code: read(), readline() and readlines()."
   ]
  },
  {
   "cell_type": "code",
   "execution_count": 16,
   "id": "0bca9b52-6ffa-4d94-8af3-31bb2ef73515",
   "metadata": {},
   "outputs": [
    {
     "name": "stdout",
     "output_type": "stream",
     "text": [
      "Line 1\n",
      "\n",
      "Line 2\n",
      "\n"
     ]
    }
   ],
   "source": [
    "file = open(\"example.txt\", \"r\")\n",
    "example1 = file.readline()\n",
    "example2 = file.readline(14)\n",
    "print(example1)\n",
    "print(example2)"
   ]
  },
  {
   "cell_type": "code",
   "execution_count": null,
   "id": "832d6f46-b98b-4571-b3e6-caf5ecc47568",
   "metadata": {},
   "outputs": [],
   "source": [
    "Q5. Explain why with statement is used with open(). What is the advantage of using with statement and\n",
    "open() together?"
   ]
  },
  {
   "cell_type": "code",
   "execution_count": null,
   "id": "d5696ae5-0f83-4bd0-b6d4-4c7bd7941bd7",
   "metadata": {},
   "outputs": [],
   "source": [
    "with open(\"example.txt\", \"r\") as file:\n",
    "    content = file.read()\n",
    "# The file is automatically closed here, no need for file.close()\n",
    "\n",
    "\n",
    "\n",
    "Here are some key advantages of using the with statement with open()\n",
    "\n",
    "Automatic File Closure\n",
    "Cleaner and More Readable Code\n",
    "Reduced Risk of Errors\n",
    "Improved Exception Handling\n",
    "Compatibility and Portability\n",
    "\n",
    "\n",
    "In summary, using the with statement with open() is a best practice for file handling in Python. It simplifies your code, ensures proper resource management, reduces the risk of errors, and makes your code more readable and maintainable."
   ]
  },
  {
   "cell_type": "code",
   "execution_count": null,
   "id": "e9d18da4-8387-4829-8d62-5890d32b418f",
   "metadata": {},
   "outputs": [],
   "source": [
    "Q6. Explain the write() and writelines() functions. Give a suitable example."
   ]
  },
  {
   "cell_type": "code",
   "execution_count": 12,
   "id": "a682ab24-2cf6-4f0b-a388-841e40d29a5e",
   "metadata": {},
   "outputs": [
    {
     "name": "stdin",
     "output_type": "stream",
     "text": [
      "Enter the name of the employee:  shivam\n",
      "Enter the name of the employee:  shiva\n",
      "Enter the name of the employee:  yadav\n"
     ]
    },
    {
     "name": "stdout",
     "output_type": "stream",
     "text": [
      "Data is written into the file.\n"
     ]
    }
   ],
   "source": [
    "file1 = open(\"Employees.txt\", \"w\")\n",
    "lst = []\n",
    "for i in range(3):\n",
    "\tname = input(\"Enter the name of the employee: \")\n",
    "\tlst.append(name + '\\n')\n",
    "\t\n",
    "file1.writelines(lst)\n",
    "file1.close()\n",
    "print(\"Data is written into the file.\")\n"
   ]
  },
  {
   "cell_type": "code",
   "execution_count": 13,
   "id": "ad957c0f-4d2c-446a-906e-74fc442f113d",
   "metadata": {},
   "outputs": [
    {
     "name": "stdin",
     "output_type": "stream",
     "text": [
      "Enter the name of the employee:  shiv\n",
      "Enter the name of the employee:  shakti\n",
      "Enter the name of the employee:  bhole\n"
     ]
    },
    {
     "name": "stdout",
     "output_type": "stream",
     "text": [
      "Data is written into the file.\n"
     ]
    }
   ],
   "source": [
    "file = open(\"Employees.txt\", \"w\")\n",
    "\n",
    "for i in range(3):\n",
    "    name = input(\"Enter the name of the employee: \")\n",
    "file.write(name)\n",
    "file.write(\"\\n\")\n",
    "\t\n",
    "file.close()\n",
    "\n",
    "print(\"Data is written into the file.\")\n"
   ]
  },
  {
   "cell_type": "code",
   "execution_count": null,
   "id": "18748ede-8b7b-4f53-8d13-ca2a6c7c3270",
   "metadata": {},
   "outputs": [],
   "source": []
  }
 ],
 "metadata": {
  "kernelspec": {
   "display_name": "Python 3 (ipykernel)",
   "language": "python",
   "name": "python3"
  },
  "language_info": {
   "codemirror_mode": {
    "name": "ipython",
    "version": 3
   },
   "file_extension": ".py",
   "mimetype": "text/x-python",
   "name": "python",
   "nbconvert_exporter": "python",
   "pygments_lexer": "ipython3",
   "version": "3.10.6"
  }
 },
 "nbformat": 4,
 "nbformat_minor": 5
}
